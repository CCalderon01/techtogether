{
 "cells": [
  {
   "cell_type": "code",
   "execution_count": null,
   "metadata": {},
   "outputs": [],
   "source": []
  },
  {
   "cell_type": "code",
   "execution_count": null,
   "metadata": {},
   "outputs": [],
   "source": [
    "#To make an array of station coordinates#\n",
    "station_list=[]\n",
    "for row in range(121):\n",
    "    station_list.append(station(mbta.iloc[row+1,2], mbta.iloc[row+1,1]))\n",
    "\n",
    "#Distance calculation#    \n",
    "list_distances = []\n",
    "def distance(lat1, lon1, lat2, lon2):\n",
    "    radius = 3956 # miles\n",
    "    dlat = math.radians(lat2-lat1)\n",
    "    dlon = math.radians(lon2-lon1)\n",
    "    a = math.sin(dlat/2) * math.sin(dlat/2) + math.cos(math.radians(lat1)) \\\n",
    "        * math.cos(math.radians(lat2)) * math.sin(dlon/2) * math.sin(dlon/2)\n",
    "    c = 2 * math.atan2(math.sqrt(a), math.sqrt(1-a))\n",
    "    d = radius * c\n",
    "    return d"
   ]
  },
  {
   "cell_type": "code",
   "execution_count": null,
   "metadata": {},
   "outputs": [],
   "source": [
    "#Find minimum distance#\n",
    "def check_transportation_distance(location1):\n",
    "    list_distances=[]\n",
    "    for station in station_list:\n",
    "            d=distance(station.latitude, station.longitude, location1.latitude, location1.longitude)\n",
    "            list_distances.append(d)\n",
    "    min_distance = min(list_distances)\n",
    "    if min_distance<0.5:\n",
    "        return \"close\"\n",
    "    elif min_distance<1 and min_distance>=0.5:\n",
    "        return \"medium\"\n",
    "    else:\n",
    "        return \"far\"\n"
   ]
  }
 ],
 "metadata": {
  "kernelspec": {
   "display_name": "Python 3",
   "language": "python",
   "name": "python3"
  },
  "language_info": {
   "codemirror_mode": {
    "name": "ipython",
    "version": 3
   },
   "file_extension": ".py",
   "mimetype": "text/x-python",
   "name": "python",
   "nbconvert_exporter": "python",
   "pygments_lexer": "ipython3",
   "version": "3.6.0"
  }
 },
 "nbformat": 4,
 "nbformat_minor": 2
}
